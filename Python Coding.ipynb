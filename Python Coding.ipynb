{
 "cells": [
  {
   "cell_type": "raw",
   "id": "a4eb5c0a",
   "metadata": {},
   "source": [
    "example:"
   ]
  },
  {
   "cell_type": "code",
   "execution_count": 2,
   "id": "771f2119",
   "metadata": {},
   "outputs": [
    {
     "name": "stdout",
     "output_type": "stream",
     "text": [
      "orange\n"
     ]
    }
   ],
   "source": [
    "a=\"orange\"\n",
    "print(a)"
   ]
  },
  {
   "cell_type": "code",
   "execution_count": 4,
   "id": "1a81a189",
   "metadata": {},
   "outputs": [
    {
     "name": "stdout",
     "output_type": "stream",
     "text": [
      "Enter a number22\n",
      "0\n",
      "2\n",
      "4\n",
      "6\n",
      "8\n",
      "10\n",
      "12\n",
      "14\n",
      "16\n",
      "18\n",
      "20\n"
     ]
    }
   ],
   "source": [
    "n=int(input(\"Enter a number\"))\n",
    "for i in range(0,n,2):\n",
    "    print(i)"
   ]
  },
  {
   "cell_type": "code",
   "execution_count": 10,
   "id": "4356c290",
   "metadata": {},
   "outputs": [
    {
     "name": "stdout",
     "output_type": "stream",
     "text": [
      "Enter English Mark 23\n",
      "Enter Tamil Mark 33\n",
      "Enter Maths Mark 44\n",
      "Enter Science Mark 43\n",
      "Enter Social science mark 20\n",
      "Failed!!!!!\n"
     ]
    }
   ],
   "source": [
    "a=int(input(\"Enter English Mark \"))\n",
    "b=int(input(\"Enter Tamil Mark \"))\n",
    "c=int(input(\"Enter Maths Mark \"))\n",
    "d=int(input(\"Enter Science Mark \"))\n",
    "e=int(input(\"Enter Social science mark \"))\n",
    "avg=(a+b+c+d+e)/5\n",
    "if (avg>=90):\n",
    "    print(\"Your Grade is A+\")\n",
    "elif (avg>80 and avg<90):\n",
    "    print(\"Your Grade is A\")\n",
    "elif (avg>70 and avg<80):\n",
    "    print(\"Your Grade is B+\")\n",
    "elif (avg>60 and avg<70):\n",
    "    print(\"Your Grade is B\")\n",
    "elif (avg>50 and avg<60):\n",
    "    print(\"Your Grade is C\")\n",
    "else:\n",
    "    print(\"Failed!!!!!\")\n"
   ]
  },
  {
   "cell_type": "code",
   "execution_count": 14,
   "id": "f05bc083",
   "metadata": {},
   "outputs": [
    {
     "name": "stdout",
     "output_type": "stream",
     "text": [
      "12\n",
      "6\n",
      "22\n"
     ]
    }
   ],
   "source": [
    "a=[12,15,6,22,23]\n",
    "for i in a:\n",
    "    if (i%2==0):\n",
    "        print(i)"
   ]
  },
  {
   "cell_type": "code",
   "execution_count": 15,
   "id": "7f5d93e9",
   "metadata": {},
   "outputs": [
    {
     "name": "stdout",
     "output_type": "stream",
     "text": [
      "15\n",
      "23\n"
     ]
    }
   ],
   "source": [
    "a=[12,15,6,22,23]\n",
    "for i in a:\n",
    "    if (i%2!=0):\n",
    "        print(i)"
   ]
  },
  {
   "cell_type": "raw",
   "id": "e615c673",
   "metadata": {},
   "source": [
    "Check if a given number is positive,negative or zero"
   ]
  },
  {
   "cell_type": "code",
   "execution_count": 20,
   "id": "1302ecc8",
   "metadata": {},
   "outputs": [
    {
     "name": "stdout",
     "output_type": "stream",
     "text": [
      "Enter a Number -231\n",
      "The given number is NEGATIVE.\n"
     ]
    }
   ],
   "source": [
    "a=int(input(\"Enter a Number \"))\n",
    "if (a>0):\n",
    "    print(\"The given number is POSITIVE.\")\n",
    "elif (a<0):\n",
    "    print(\"The given number is NEGATIVE.\")\n",
    "else:\n",
    "    print(\"The given number is ZERO.\")"
   ]
  },
  {
   "cell_type": "raw",
   "id": "29ec0f53",
   "metadata": {},
   "source": [
    "Check if a number is odd or even"
   ]
  },
  {
   "cell_type": "code",
   "execution_count": 19,
   "id": "3aec06ac",
   "metadata": {},
   "outputs": [
    {
     "name": "stdout",
     "output_type": "stream",
     "text": [
      "Enter a Number 24\n",
      "The given number is EVEN.\n"
     ]
    }
   ],
   "source": [
    "a=int(input(\"Enter a Number \"))\n",
    "if (a%2==0):\n",
    "    print(\"The given number is EVEN.\")\n",
    "else:\n",
    "    print(\"The given number is ODD.\")"
   ]
  },
  {
   "cell_type": "raw",
   "id": "c5ed5d61",
   "metadata": {},
   "source": [
    "Find largest among 3 numbers"
   ]
  },
  {
   "cell_type": "code",
   "execution_count": 25,
   "id": "683687ab",
   "metadata": {},
   "outputs": [
    {
     "name": "stdout",
     "output_type": "stream",
     "text": [
      "Enter first Number A 12\n",
      "Enter second Number B 2\n",
      "Enter third Number C 124\n",
      "C is Greater\n"
     ]
    }
   ],
   "source": [
    "a=int(input(\"Enter first Number A \"))\n",
    "b=int(input(\"Enter second Number B \"))\n",
    "c=int(input(\"Enter third Number C \"))\n",
    "if (a>b and a>c):\n",
    "    print(\"A is Greater\")\n",
    "elif (b>a and b>c):\n",
    "    print(\"B is Greater\")\n",
    "else:\n",
    "    print(\"C is Greater\")"
   ]
  },
  {
   "cell_type": "raw",
   "id": "4180b372",
   "metadata": {},
   "source": [
    "Factorial of a number"
   ]
  },
  {
   "cell_type": "code",
   "execution_count": 32,
   "id": "aea0135c",
   "metadata": {},
   "outputs": [
    {
     "name": "stdout",
     "output_type": "stream",
     "text": [
      "Enter a number 4\n",
      "24\n"
     ]
    }
   ],
   "source": [
    "n=int(input(\"Enter a number \"))\n",
    "j=1\n",
    "for i in range(1,n+1):\n",
    "    j=i*j\n",
    "print(j)"
   ]
  },
  {
   "cell_type": "code",
   "execution_count": 8,
   "id": "769a8f04",
   "metadata": {},
   "outputs": [
    {
     "name": "stdout",
     "output_type": "stream",
     "text": [
      "Enter a number 8\n",
      "0\n",
      "1\n",
      "1\n",
      "2\n",
      "3\n",
      "5\n",
      "8\n",
      "13\n"
     ]
    }
   ],
   "source": [
    "n=int(input(\"Enter a number \"))\n",
    "n1,n2=0,1\n",
    "for i in range(1,n+1):\n",
    "    print(n1)\n",
    "    j=n1+n2\n",
    "    n1=n2\n",
    "    n2=j\n"
   ]
  },
  {
   "cell_type": "raw",
   "id": "23d891c3",
   "metadata": {},
   "source": [
    "1,1,2,3,5,8,13......."
   ]
  },
  {
   "cell_type": "code",
   "execution_count": 9,
   "id": "76f97d4a",
   "metadata": {},
   "outputs": [
    {
     "name": "stdout",
     "output_type": "stream",
     "text": [
      "Enter a number 4\n",
      "4 is not a prime number\n"
     ]
    }
   ],
   "source": [
    "num=(int(input(\"Enter a number \")))\n",
    "if num>1:\n",
    "    for i in range(2,num):\n",
    "        if(num % i) == 0:\n",
    "            print(num,\"is not a prime number\")\n",
    "            break\n",
    "    else:\n",
    "        print(num,\"is a prime number\")\n",
    "else:\n",
    "    print(num,\"is not a prime number\")"
   ]
  },
  {
   "cell_type": "code",
   "execution_count": 13,
   "id": "5fb4bd53",
   "metadata": {},
   "outputs": [
    {
     "name": "stdout",
     "output_type": "stream",
     "text": [
      "Enter a number 10\n",
      "2\n",
      "3\n",
      "5\n",
      "7\n"
     ]
    }
   ],
   "source": [
    "n=int(input(\"Enter a number \"))\n",
    "for i in range(0,n+1):\n",
    "    if i>1:\n",
    "        for j in range(2,i):\n",
    "            if(i%j)==0:\n",
    "                break\n",
    "        else:\n",
    "            print(i)"
   ]
  },
  {
   "cell_type": "raw",
   "id": "e7d456b2",
   "metadata": {},
   "source": [
    "program to check whether the number is multiple of 5"
   ]
  },
  {
   "cell_type": "code",
   "execution_count": 2,
   "id": "06dfd6df",
   "metadata": {},
   "outputs": [
    {
     "name": "stdout",
     "output_type": "stream",
     "text": [
      "Enter a number 15\n",
      "15 is a multiple of 5\n"
     ]
    }
   ],
   "source": [
    "number=int(input(\"Enter a number \"))\n",
    "if (number%5==0):\n",
    "    print(number,\"is a multiple of 5\")\n",
    "else:\n",
    "    print(number,\"is not a multiple of 5\")"
   ]
  },
  {
   "cell_type": "raw",
   "id": "847b9570",
   "metadata": {},
   "source": [
    "write a program to give 10% bill if the bill amount exceeds 1000"
   ]
  },
  {
   "cell_type": "code",
   "execution_count": 3,
   "id": "abc98b3b",
   "metadata": {},
   "outputs": [
    {
     "name": "stdout",
     "output_type": "stream",
     "text": [
      "Enter the bill amount 12000\n",
      "You got discount:)\n",
      "discounted amount is  1200.0\n",
      "The bill amount after discount is  10800.0\n"
     ]
    }
   ],
   "source": [
    "a=int(input(\"Enter the bill amount \"))\n",
    "if a>1000:\n",
    "    print(\"You got discount:)\")\n",
    "    d=(a*(10/100))\n",
    "    print(\"discounted amount is \",d)\n",
    "    print(\"The bill amount after discount is \",a-d)\n",
    "else:\n",
    "    print(\"there is no discount\")\n",
    "    print(\"the final bill value is \",a)    "
   ]
  },
  {
   "cell_type": "raw",
   "id": "c9997732",
   "metadata": {},
   "source": [
    "cast your vote and be a contstant in election"
   ]
  },
  {
   "cell_type": "code",
   "execution_count": 5,
   "id": "4ae387ca",
   "metadata": {},
   "outputs": [
    {
     "name": "stdout",
     "output_type": "stream",
     "text": [
      "Enter your age 19\n",
      "You can cast a vote\n"
     ]
    }
   ],
   "source": [
    "n=int(input(\"Enter your age \"))\n",
    "if (n>=18 and n<25): \n",
    "    print(\"You can cast a vote\")\n",
    "elif (n>=25):\n",
    "    print(\"you can cast a vote and contest in election\")\n",
    "else:\n",
    "    print(\"you are not eligible to cast a vote and contest in election\")"
   ]
  },
  {
   "cell_type": "raw",
   "id": "d82e65d4",
   "metadata": {},
   "source": [
    "write a program to check whether the given year is leap year or not"
   ]
  },
  {
   "cell_type": "code",
   "execution_count": 7,
   "id": "68eca365",
   "metadata": {},
   "outputs": [
    {
     "name": "stdout",
     "output_type": "stream",
     "text": [
      "Enter the Year to check whether its leap year or not 2000\n",
      "2000 is a leap year\n"
     ]
    }
   ],
   "source": [
    "year=int(input(\"Enter the Year to check whether its leap year or not \"))\n",
    "if (year%4==0 and year%100==0 and year%400==0):\n",
    "    print(year,\"is a leap year\")\n",
    "else:\n",
    "    print(year,\"is not a leap year\")"
   ]
  },
  {
   "cell_type": "code",
   "execution_count": 2,
   "id": "300cc0c1",
   "metadata": {},
   "outputs": [
    {
     "name": "stdout",
     "output_type": "stream",
     "text": [
      "1\n",
      "2\n",
      "4\n",
      "5\n",
      "6\n",
      "7\n",
      "8\n",
      "9\n",
      "10\n",
      "11\n"
     ]
    }
   ],
   "source": [
    "i=0\n",
    "while(i<=10):\n",
    "    i=i+1\n",
    "    if(i==3):\n",
    "        continue\n",
    "    print(i)"
   ]
  },
  {
   "cell_type": "code",
   "execution_count": 11,
   "id": "d0163068",
   "metadata": {},
   "outputs": [
    {
     "name": "stdout",
     "output_type": "stream",
     "text": [
      "Hello Davis How Are You\n"
     ]
    }
   ],
   "source": [
    "greeting(\"Davis\")\n",
    "def greeting (name):\n",
    "    print(\"Hello \"+name+\" How Are You\")\n",
    "\n"
   ]
  },
  {
   "cell_type": "code",
   "execution_count": 13,
   "id": "df14493b",
   "metadata": {},
   "outputs": [
    {
     "data": {
      "text/plain": [
       "'mike'"
      ]
     },
     "execution_count": 13,
     "metadata": {},
     "output_type": "execute_result"
    }
   ],
   "source": [
    "a=\"mike\"\n",
    "a"
   ]
  },
  {
   "cell_type": "code",
   "execution_count": 17,
   "id": "33328f5c",
   "metadata": {},
   "outputs": [
    {
     "name": "stdout",
     "output_type": "stream",
     "text": [
      "2\n",
      "4\n"
     ]
    }
   ],
   "source": [
    "def absolute_value(num):\n",
    "    \"\"\"This function returns the absolute\n",
    "    value of the entered number\"\"\"\n",
    "    if num >= 0:\n",
    "        return num\n",
    "    else:\n",
    "        return -num\n",
    "print(absolute_value(2))\n",
    "print(absolute_value(-4))"
   ]
  },
  {
   "cell_type": "code",
   "execution_count": 18,
   "id": "3cc3f9f6",
   "metadata": {},
   "outputs": [
    {
     "name": "stdout",
     "output_type": "stream",
     "text": [
      "20\n"
     ]
    }
   ],
   "source": [
    "def example():\n",
    "    a=10\n",
    "    b=10\n",
    "    c=a+b\n",
    "    return c\n",
    "x=example()\n",
    "print(x)"
   ]
  },
  {
   "cell_type": "raw",
   "id": "ed5dd23c",
   "metadata": {},
   "source": [
    "task 4/3/22"
   ]
  },
  {
   "cell_type": "code",
   "execution_count": 2,
   "id": "eb3c4c4e",
   "metadata": {},
   "outputs": [
    {
     "name": "stdout",
     "output_type": "stream",
     "text": [
      "Enter a Number: 9\n",
      "The Square root of the number is 3.0\n",
      "The Factorial of the number is 362880\n",
      "The value of 4 to the power of 3 is 64.0\n",
      "Enter a negative Number: -23\n",
      "The absolute value of the number is 23.0\n",
      "the maximum values in the list is 245\n",
      "the minimum values in the list is 1\n"
     ]
    }
   ],
   "source": [
    "import math\n",
    "n=int(input(\"Enter a Number: \"))\n",
    "print(\"The Square root of the number is\",math.sqrt(n))\n",
    "print(\"The Factorial of the number is\",math.factorial(n))\n",
    "print(\"The value of 4 to the power of 3 is\",math.pow(4,3))\n",
    "negn=int(input(\"Enter a negative Number: \"))\n",
    "print(\"The absolute value of the number is\",math.fabs(negn))\n",
    "l=[2,45,7,245,1,65,73]\n",
    "print(\"the maximum values in the list is\",max(l))\n",
    "print(\"the minimum values in the list is\",min(l))"
   ]
  },
  {
   "cell_type": "raw",
   "id": "88e88d9e",
   "metadata": {},
   "source": [
    "display current date"
   ]
  },
  {
   "cell_type": "code",
   "execution_count": 10,
   "id": "cb118736",
   "metadata": {},
   "outputs": [
    {
     "name": "stdout",
     "output_type": "stream",
     "text": [
      "2022-03-04\n"
     ]
    }
   ],
   "source": [
    "import datetime\n",
    "date=datetime.date.today()\n",
    "print(date)"
   ]
  },
  {
   "cell_type": "raw",
   "id": "09efeffd",
   "metadata": {},
   "source": [
    "print squares of given number in a list"
   ]
  },
  {
   "cell_type": "code",
   "execution_count": 5,
   "id": "5e4be21f",
   "metadata": {},
   "outputs": [
    {
     "name": "stdout",
     "output_type": "stream",
     "text": [
      "[4, 16, 25, 1, 49, 64]\n"
     ]
    }
   ],
   "source": [
    "l=[2,4,5,1,7,8]\n",
    "op=list(map(lambda x:x*x,l))\n",
    "print(op)"
   ]
  },
  {
   "cell_type": "raw",
   "id": "b5be780a",
   "metadata": {},
   "source": [
    "number divisible by another number"
   ]
  },
  {
   "cell_type": "code",
   "execution_count": 6,
   "id": "fe48013e",
   "metadata": {},
   "outputs": [
    {
     "name": "stdout",
     "output_type": "stream",
     "text": [
      "[4, 24, 20, 44]\n"
     ]
    }
   ],
   "source": [
    "l=[4,23,24,20,21,44,45]\n",
    "op=list(filter(lambda x:x%4==0,l))\n",
    "print(op)"
   ]
  },
  {
   "cell_type": "code",
   "execution_count": 2,
   "id": "fa7ec15e",
   "metadata": {},
   "outputs": [
    {
     "name": "stdout",
     "output_type": "stream",
     "text": [
      "array('i', [23, 45, 67, 78, 73])\n",
      "23\n",
      "45\n",
      "67\n",
      "78\n",
      "73\n"
     ]
    }
   ],
   "source": [
    "import array as arr\n",
    "a=arr.array('i',[23,45,67,78,73])\n",
    "print(a)\n",
    "print(a[0])\n",
    "print(a[1])\n",
    "print(a[2])\n",
    "print(a[3])\n",
    "print(a[4])"
   ]
  },
  {
   "cell_type": "code",
   "execution_count": 9,
   "id": "1ed61f5d",
   "metadata": {},
   "outputs": [
    {
     "name": "stdout",
     "output_type": "stream",
     "text": [
      "array('i', [23, 45, 67, 78, 73])\n",
      "array('i', [73, 78, 67, 45, 23])\n"
     ]
    }
   ],
   "source": [
    "import array as arr\n",
    "a=arr.array('i',[23,45,67,78,73])\n",
    "print(a)\n",
    "b=arr.array('i')\n",
    "b=a[::-1]\n",
    "print(b)"
   ]
  },
  {
   "cell_type": "code",
   "execution_count": 10,
   "id": "a4382391",
   "metadata": {},
   "outputs": [
    {
     "name": "stdout",
     "output_type": "stream",
     "text": [
      "array('i', [73, 78, 67, 45, 23])\n"
     ]
    }
   ],
   "source": [
    "import array as arr\n",
    "a=arr.array('i',[23,45,67,78,73])\n",
    "print(a[::-1])"
   ]
  },
  {
   "cell_type": "code",
   "execution_count": 11,
   "id": "bd70dd48",
   "metadata": {},
   "outputs": [
    {
     "name": "stdout",
     "output_type": "stream",
     "text": [
      "array('i', [23, 45, 67, 78, 73, 145])\n",
      "array('i', [23, 45, 67, 78, 73])\n"
     ]
    }
   ],
   "source": [
    "import array as arr\n",
    "a=arr.array('i',[23,45,67,78,73])\n",
    "a.append(145)\n",
    "print(a)\n",
    "a.remove(145)\n",
    "print(a)"
   ]
  },
  {
   "cell_type": "code",
   "execution_count": 21,
   "id": "69ff5d57",
   "metadata": {},
   "outputs": [
    {
     "name": "stdout",
     "output_type": "stream",
     "text": [
      "array('i', [23, 45, 67]) array('i', [78, 73, 145])\n"
     ]
    }
   ],
   "source": [
    "import array as arr\n",
    "a=arr.array('i',[23,45,67,78,73,145])\n",
    "print(a[:3],a[3:])"
   ]
  },
  {
   "cell_type": "code",
   "execution_count": 22,
   "id": "724e9d1a",
   "metadata": {},
   "outputs": [
    {
     "name": "stdout",
     "output_type": "stream",
     "text": [
      "array('i', [45, 67, 78])\n"
     ]
    }
   ],
   "source": [
    "import array as arr\n",
    "a=arr.array('i',[23,45,67,78,73])\n",
    "print(a[1:4])"
   ]
  },
  {
   "cell_type": "code",
   "execution_count": 33,
   "id": "d97acfa4",
   "metadata": {},
   "outputs": [
    {
     "name": "stdout",
     "output_type": "stream",
     "text": [
      "5\n",
      "78\n",
      "23\n",
      "[23, 45, 67, 78, 73]\n",
      "57.2\n"
     ]
    }
   ],
   "source": [
    "import array as arr\n",
    "a=arr.array('i',[23,45,67,78,73])\n",
    "print(len(a))\n",
    "print(max(a))\n",
    "print(min(a))\n",
    "print(list(a))\n",
    "print(sum(a)/len(a))\n"
   ]
  },
  {
   "cell_type": "code",
   "execution_count": 34,
   "id": "424e6b0e",
   "metadata": {},
   "outputs": [
    {
     "name": "stdout",
     "output_type": "stream",
     "text": [
      "73\n"
     ]
    }
   ],
   "source": [
    "import array as arr\n",
    "a=arr.array('i',[23,45,67,78,73])\n",
    "a.remove(max(a))\n",
    "print(max(a))"
   ]
  },
  {
   "cell_type": "code",
   "execution_count": 40,
   "id": "86fc381e",
   "metadata": {},
   "outputs": [
    {
     "name": "stdout",
     "output_type": "stream",
     "text": [
      "even\n",
      "odd\n",
      "even\n",
      "odd\n",
      "even\n"
     ]
    }
   ],
   "source": [
    "import array as arr\n",
    "a=arr.array('i',[23,45,67,78,73])\n",
    "for i in range(0,len(a)):\n",
    "    if (i%2==0):\n",
    "        print(\"even\")\n",
    "    else:\n",
    "        print(\"odd\")"
   ]
  },
  {
   "cell_type": "raw",
   "id": "7b7dbaa9",
   "metadata": {},
   "source": [
    "program to demonstrate index error"
   ]
  },
  {
   "cell_type": "code",
   "execution_count": 4,
   "id": "0678ddb2",
   "metadata": {},
   "outputs": [
    {
     "name": "stdout",
     "output_type": "stream",
     "text": [
      "23\n"
     ]
    }
   ],
   "source": [
    "import sys\n",
    "l=[22,34,56,23,73]\n",
    "try:\n",
    "    print(l[3])\n",
    "except:\n",
    "    print(sys.exc_info()[0])"
   ]
  },
  {
   "cell_type": "raw",
   "id": "1ce5ca34",
   "metadata": {},
   "source": [
    "program to demonstrate key error"
   ]
  },
  {
   "cell_type": "code",
   "execution_count": 6,
   "id": "6c4dffd8",
   "metadata": {},
   "outputs": [
    {
     "name": "stdout",
     "output_type": "stream",
     "text": [
      "1961\n"
     ]
    }
   ],
   "source": [
    "import sys\n",
    "l={'enfield':1903,'jawa':1961,'yamaha':1998,'hero honda':1999,'harley davidson':1905}\n",
    "try:\n",
    "    print(l['jawa'])\n",
    "except:\n",
    "    print(sys.exc_info()[0])"
   ]
  },
  {
   "cell_type": "raw",
   "id": "466ac995",
   "metadata": {},
   "source": [
    "program to handle dividebyzero"
   ]
  },
  {
   "cell_type": "code",
   "execution_count": 9,
   "id": "3c981821",
   "metadata": {},
   "outputs": [],
   "source": [
    "def fun(a):\n",
    "    if a<4:\n",
    "        b=a/(a-3)\n",
    "        print(b)\n",
    "try:\n",
    "    fun(5)\n",
    "except ZeroDivisionError:\n",
    "    print('Divide by Zero error handling')"
   ]
  },
  {
   "cell_type": "raw",
   "id": "4517ff01",
   "metadata": {},
   "source": [
    "program to handle name error"
   ]
  },
  {
   "cell_type": "code",
   "execution_count": 12,
   "id": "7ce9cb21",
   "metadata": {},
   "outputs": [
    {
     "name": "stdout",
     "output_type": "stream",
     "text": [
      "Name error occured\n"
     ]
    }
   ],
   "source": [
    "def fun(a):\n",
    "    if a<4:\n",
    "        b=a/(a-3)\n",
    "        print(b)\n",
    "try:\n",
    "    fu(2)\n",
    "except NameError:\n",
    "    print('Name error occured')"
   ]
  },
  {
   "cell_type": "raw",
   "id": "a136409f",
   "metadata": {},
   "source": [
    "program to demonstrate attribute error"
   ]
  },
  {
   "cell_type": "code",
   "execution_count": 14,
   "id": "60ec26e2",
   "metadata": {},
   "outputs": [
    {
     "name": "stdout",
     "output_type": "stream",
     "text": [
      "K\n",
      "A\n",
      "<class 'AttributeError'>\n",
      "M\n",
      "<class 'AttributeError'>\n",
      "D\n",
      "<class 'AttributeError'>\n",
      "<class 'AttributeError'>\n"
     ]
    }
   ],
   "source": [
    "import sys\n",
    "l=['k','a',34,'m',56,'d',23,73]\n",
    "for i in l:\n",
    "    try:\n",
    "        a=i.upper()\n",
    "        print(a)\n",
    "    except:\n",
    "        print(sys.exc_info()[0])"
   ]
  },
  {
   "cell_type": "raw",
   "id": "91e5a58d",
   "metadata": {},
   "source": [
    "Program to throw an error if the interest rate is greater than 100"
   ]
  },
  {
   "cell_type": "code",
   "execution_count": 16,
   "id": "d80cbdeb",
   "metadata": {},
   "outputs": [
    {
     "name": "stdout",
     "output_type": "stream",
     "text": [
      "Enter the value of Principle of Interest: 35000\n",
      "Enter the value of Rate of Interest: 12\n",
      "Enter the value of Time Period in years: 12\n",
      "Error!!!!\n",
      "The Value is Exceeding limit\n"
     ]
    }
   ],
   "source": [
    "p=int(input(\"Enter the value of Principle of Interest: \"))\n",
    "r=int(input(\"Enter the value of Rate of Interest: \"))\n",
    "t=int(input(\"Enter the value of Time Period in years: \"))\n",
    "si=(p*r*t)/100\n",
    "try:\n",
    "    assert (si<=100)\n",
    "    print(\"The Simple Interest is \",si)\n",
    "except:\n",
    "    print(\"Error!!!!\\nThe Value is Exceeding limit\")"
   ]
  },
  {
   "cell_type": "code",
   "execution_count": null,
   "id": "ab4af5fa",
   "metadata": {},
   "outputs": [],
   "source": []
  }
 ],
 "metadata": {
  "kernelspec": {
   "display_name": "Python 3 (ipykernel)",
   "language": "python",
   "name": "python3"
  },
  "language_info": {
   "codemirror_mode": {
    "name": "ipython",
    "version": 3
   },
   "file_extension": ".py",
   "mimetype": "text/x-python",
   "name": "python",
   "nbconvert_exporter": "python",
   "pygments_lexer": "ipython3",
   "version": "3.9.7"
  }
 },
 "nbformat": 4,
 "nbformat_minor": 5
}
