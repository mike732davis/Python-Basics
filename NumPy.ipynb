{
 "cells": [
  {
   "cell_type": "code",
   "execution_count": 3,
   "id": "7e0fe66d",
   "metadata": {},
   "outputs": [
    {
     "name": "stdout",
     "output_type": "stream",
     "text": [
      "[21 35 67 32  2 73]\n"
     ]
    }
   ],
   "source": [
    "import numpy\n",
    "l=numpy.array([21,35,67,32,2,73])\n",
    "print(l)"
   ]
  },
  {
   "cell_type": "code",
   "execution_count": 6,
   "id": "f7102e2e",
   "metadata": {},
   "outputs": [
    {
     "name": "stdout",
     "output_type": "stream",
     "text": [
      "[21 35 67 32  2 73]\n"
     ]
    }
   ],
   "source": [
    "import numpy as np\n",
    "l=np.array([21,35,67,32,2,73])\n",
    "print(l)"
   ]
  },
  {
   "cell_type": "code",
   "execution_count": 5,
   "id": "a67b787e",
   "metadata": {},
   "outputs": [
    {
     "name": "stdout",
     "output_type": "stream",
     "text": [
      "1.20.3\n"
     ]
    }
   ],
   "source": [
    "print (np.__version__)"
   ]
  },
  {
   "cell_type": "code",
   "execution_count": 7,
   "id": "62169398",
   "metadata": {},
   "outputs": [
    {
     "name": "stdout",
     "output_type": "stream",
     "text": [
      "[21  4 56 78 73]\n"
     ]
    }
   ],
   "source": [
    "t=np.array((21,4,56,78,73))\n",
    "print(t)"
   ]
  },
  {
   "cell_type": "raw",
   "id": "01fea494",
   "metadata": {},
   "source": [
    "zero dimension array"
   ]
  },
  {
   "cell_type": "code",
   "execution_count": 8,
   "id": "d4d1b740",
   "metadata": {},
   "outputs": [
    {
     "name": "stdout",
     "output_type": "stream",
     "text": [
      "73\n"
     ]
    }
   ],
   "source": [
    "l=np.array(73)\n",
    "print(l)"
   ]
  },
  {
   "cell_type": "raw",
   "id": "45aefe64",
   "metadata": {},
   "source": [
    "1D array:"
   ]
  },
  {
   "cell_type": "code",
   "execution_count": 9,
   "id": "ebf03967",
   "metadata": {},
   "outputs": [
    {
     "name": "stdout",
     "output_type": "stream",
     "text": [
      "[21 35 67 32  2 73]\n"
     ]
    }
   ],
   "source": [
    "l=np.array([21,35,67,32,2,73])\n",
    "print(l)"
   ]
  },
  {
   "cell_type": "raw",
   "id": "1fb48e8b",
   "metadata": {},
   "source": [
    "2d array:"
   ]
  },
  {
   "cell_type": "code",
   "execution_count": 12,
   "id": "8f4f3c16",
   "metadata": {},
   "outputs": [
    {
     "name": "stdout",
     "output_type": "stream",
     "text": [
      "[[21 35 67 32  2 73]\n",
      " [22 67 99  1 39 55]]\n"
     ]
    }
   ],
   "source": [
    "l=np.array([[21,35,67,32,2,73],[22,67,99,1,39,55]])\n",
    "print(l)"
   ]
  },
  {
   "cell_type": "raw",
   "id": "54511c3f",
   "metadata": {},
   "source": [
    "3d array:"
   ]
  },
  {
   "cell_type": "code",
   "execution_count": 14,
   "id": "c9323ee1",
   "metadata": {},
   "outputs": [
    {
     "name": "stdout",
     "output_type": "stream",
     "text": [
      "[[ 21  45  67  89  23  56]\n",
      " [  3   5   9  10  12  31]\n",
      " [ 73  45 102  47  88  99]]\n"
     ]
    }
   ],
   "source": [
    "l=np.array([[21,45,67,89,23,56],[3,5,9,10,12,31],[73,45,102,47,88,99]])\n",
    "print(l)"
   ]
  },
  {
   "cell_type": "code",
   "execution_count": 18,
   "id": "1d609835",
   "metadata": {},
   "outputs": [
    {
     "name": "stdout",
     "output_type": "stream",
     "text": [
      "0\n",
      "1\n",
      "2\n",
      "3\n"
     ]
    }
   ],
   "source": [
    "l0=np.array(98)\n",
    "l1=np.array([21,35,67,32,2,73])\n",
    "l2=np.array([[21,35,67,32,2,73],[22,67,99,1,39,55]])\n",
    "l3=np.array([[[21,45,67,89,23,56],[3,5,9,10,12,31],[73,45,102,47,88,99]]])\n",
    "print(l0.ndim)\n",
    "print(l1.ndim)\n",
    "print(l2.ndim)\n",
    "print(l3.ndim)"
   ]
  },
  {
   "cell_type": "code",
   "execution_count": 21,
   "id": "1403e459",
   "metadata": {},
   "outputs": [
    {
     "name": "stdout",
     "output_type": "stream",
     "text": [
      "[[[[[21 34 56 78 73]]]]]\n",
      "5\n"
     ]
    }
   ],
   "source": [
    "a=np.array([21,34,56,78,73],ndmin=5)\n",
    "print(a)\n",
    "print(a.ndim)"
   ]
  },
  {
   "cell_type": "code",
   "execution_count": 22,
   "id": "95e84bd9",
   "metadata": {},
   "outputs": [
    {
     "name": "stdout",
     "output_type": "stream",
     "text": [
      "21\n",
      "34\n",
      "56\n",
      "78\n",
      "73\n"
     ]
    }
   ],
   "source": [
    "a=np.array([21,34,56,78,73])\n",
    "print(a[0])\n",
    "print(a[1])\n",
    "print(a[2])\n",
    "print(a[3])\n",
    "print(a[4])"
   ]
  },
  {
   "cell_type": "code",
   "execution_count": 24,
   "id": "2ca3f17d",
   "metadata": {},
   "outputs": [
    {
     "name": "stdout",
     "output_type": "stream",
     "text": [
      "99\n"
     ]
    }
   ],
   "source": [
    "a=np.array([21,34,56,78,73])\n",
    "b=a[0]+a[3]\n",
    "print(b)"
   ]
  },
  {
   "cell_type": "code",
   "execution_count": 34,
   "id": "544bfa8b",
   "metadata": {},
   "outputs": [
    {
     "name": "stdout",
     "output_type": "stream",
     "text": [
      "5th element on 2nd row:  99\n"
     ]
    }
   ],
   "source": [
    "aa=np.array([[21,35,67,32,2,73],[22,67,99,1,39,55]])\n",
    "print('5th element on 2nd row: ', aa[1,2])"
   ]
  },
  {
   "cell_type": "code",
   "execution_count": 45,
   "id": "4bcf021a",
   "metadata": {},
   "outputs": [
    {
     "name": "stdout",
     "output_type": "stream",
     "text": [
      "99\n"
     ]
    }
   ],
   "source": [
    "aaa=np.array([[[21,45,67,89,23,56],[3,5,9,10,12,31],[73,45,102,47,88,99]]])\n",
    "print(aaa[0,2,-1])"
   ]
  },
  {
   "cell_type": "code",
   "execution_count": 2,
   "id": "0cb17415",
   "metadata": {},
   "outputs": [
    {
     "name": "stdout",
     "output_type": "stream",
     "text": [
      "(2, 6)\n"
     ]
    }
   ],
   "source": [
    "import numpy as np\n",
    "a=np.array([[21,2,54,34,73,78],[22,11,10,4,29,33]])\n",
    "print(a.shape)"
   ]
  },
  {
   "cell_type": "code",
   "execution_count": 3,
   "id": "f7c6e4b4",
   "metadata": {},
   "outputs": [
    {
     "name": "stdout",
     "output_type": "stream",
     "text": [
      "[[21  2]\n",
      " [54 34]\n",
      " [73 78]\n",
      " [22 11]\n",
      " [10  4]\n",
      " [29 33]]\n"
     ]
    }
   ],
   "source": [
    "b=a.reshape(6,2)\n",
    "print(b)"
   ]
  },
  {
   "cell_type": "code",
   "execution_count": 4,
   "id": "8df305f1",
   "metadata": {},
   "outputs": [
    {
     "name": "stdout",
     "output_type": "stream",
     "text": [
      "[[1 2 3 4]\n",
      " [3 4 5 6]]\n"
     ]
    }
   ],
   "source": [
    "a=np.array([(1,2,3,4),(3,4,5,6)])\n",
    "print(a)"
   ]
  },
  {
   "cell_type": "code",
   "execution_count": 5,
   "id": "c504aed3",
   "metadata": {},
   "outputs": [
    {
     "name": "stdout",
     "output_type": "stream",
     "text": [
      "3\n"
     ]
    }
   ],
   "source": [
    "print(a[0,2])"
   ]
  },
  {
   "cell_type": "code",
   "execution_count": 6,
   "id": "6b1cd04f",
   "metadata": {},
   "outputs": [
    {
     "name": "stdout",
     "output_type": "stream",
     "text": [
      "[1 2 3 4]\n"
     ]
    }
   ],
   "source": [
    "print(a[0,:])"
   ]
  },
  {
   "cell_type": "code",
   "execution_count": 9,
   "id": "e34c48f6",
   "metadata": {},
   "outputs": [
    {
     "name": "stdout",
     "output_type": "stream",
     "text": [
      "[4 6]\n"
     ]
    }
   ],
   "source": [
    "print(a[0:,3])"
   ]
  },
  {
   "cell_type": "code",
   "execution_count": 11,
   "id": "cd0aea62",
   "metadata": {},
   "outputs": [
    {
     "name": "stdout",
     "output_type": "stream",
     "text": [
      "[4 6 4]\n"
     ]
    }
   ],
   "source": [
    "a=np.array([(1,2,3,4),(3,4,5,6),(5,8,1,4)])\n",
    "print(a[0:,3])"
   ]
  },
  {
   "cell_type": "code",
   "execution_count": 15,
   "id": "4c79c901",
   "metadata": {},
   "outputs": [
    {
     "name": "stdout",
     "output_type": "stream",
     "text": [
      "[4 6]\n"
     ]
    }
   ],
   "source": [
    "print(a[0:2,3])"
   ]
  },
  {
   "cell_type": "code",
   "execution_count": 18,
   "id": "a07d7402",
   "metadata": {},
   "outputs": [
    {
     "name": "stdout",
     "output_type": "stream",
     "text": [
      "[1.         1.44444444 1.88888889 2.33333333 2.77777778 3.22222222\n",
      " 3.66666667 4.11111111 4.55555556 5.        ]\n"
     ]
    }
   ],
   "source": [
    "a=np.linspace(1,5,10)\n",
    "print(a)"
   ]
  },
  {
   "cell_type": "code",
   "execution_count": 19,
   "id": "353ecb7b",
   "metadata": {},
   "outputs": [
    {
     "name": "stdout",
     "output_type": "stream",
     "text": [
      "4\n"
     ]
    }
   ],
   "source": [
    "a=np.array([1,2,3,4])\n",
    "print(a.max())"
   ]
  },
  {
   "cell_type": "code",
   "execution_count": 20,
   "id": "3205941c",
   "metadata": {},
   "outputs": [
    {
     "name": "stdout",
     "output_type": "stream",
     "text": [
      "1\n"
     ]
    }
   ],
   "source": [
    "print(a.min())"
   ]
  },
  {
   "cell_type": "code",
   "execution_count": 21,
   "id": "fb6d9b0a",
   "metadata": {},
   "outputs": [
    {
     "name": "stdout",
     "output_type": "stream",
     "text": [
      "10\n"
     ]
    }
   ],
   "source": [
    "a=np.array([1,2,3,4])\n",
    "print(a.sum())"
   ]
  },
  {
   "cell_type": "code",
   "execution_count": 25,
   "id": "93a21063",
   "metadata": {},
   "outputs": [
    {
     "name": "stdout",
     "output_type": "stream",
     "text": [
      "[ 4  6  8 10]\n"
     ]
    }
   ],
   "source": [
    "a=np.array([(1,2,3,4),(3,4,5,6)])\n",
    "print(a.sum(axis=0))"
   ]
  },
  {
   "cell_type": "code",
   "execution_count": 28,
   "id": "aa2cfed7",
   "metadata": {},
   "outputs": [
    {
     "name": "stdout",
     "output_type": "stream",
     "text": [
      "[[1.         1.41421356 1.73205081 2.        ]\n",
      " [1.73205081 2.         2.23606798 2.44948974]]\n"
     ]
    }
   ],
   "source": [
    "a=np.array([(1,2,3,4),(3,4,5,6)])\n",
    "print(np.sqrt(a))"
   ]
  },
  {
   "cell_type": "code",
   "execution_count": 32,
   "id": "3b27831f",
   "metadata": {},
   "outputs": [
    {
     "name": "stdout",
     "output_type": "stream",
     "text": [
      "[[1. 1. 1. 1.]\n",
      " [1. 1. 1. 1.]]\n"
     ]
    }
   ],
   "source": [
    "a=np.array([(1,2,3,4),(3,4,5,6)])\n",
    "b=np.array([(1,2,3,4),(3,4,5,6)])\n",
    "print(a/b)"
   ]
  },
  {
   "cell_type": "code",
   "execution_count": 33,
   "id": "60cbe71f",
   "metadata": {},
   "outputs": [
    {
     "name": "stdout",
     "output_type": "stream",
     "text": [
      "[[1 2 3 4]\n",
      " [3 4 5 6]\n",
      " [1 2 3 4]\n",
      " [3 4 5 6]]\n"
     ]
    }
   ],
   "source": [
    "print(np.vstack((a,b)))"
   ]
  },
  {
   "cell_type": "code",
   "execution_count": 35,
   "id": "60ded518",
   "metadata": {},
   "outputs": [
    {
     "name": "stdout",
     "output_type": "stream",
     "text": [
      "[[1 2 3 4 1 2 3 4]\n",
      " [3 4 5 6 3 4 5 6]]\n"
     ]
    }
   ],
   "source": [
    "print(np.hstack((a,b)))"
   ]
  },
  {
   "cell_type": "code",
   "execution_count": 37,
   "id": "4daaeb0d",
   "metadata": {},
   "outputs": [
    {
     "name": "stdout",
     "output_type": "stream",
     "text": [
      "[1 2 3 4 3 4 5 6]\n"
     ]
    }
   ],
   "source": [
    "print(b.ravel())"
   ]
  },
  {
   "cell_type": "code",
   "execution_count": 38,
   "id": "5af166ff",
   "metadata": {},
   "outputs": [
    {
     "name": "stdout",
     "output_type": "stream",
     "text": [
      "Requirement already satisfied: matplotlib in c:\\users\\mike davis\\anaconda3\\lib\\site-packages (3.4.3)\n",
      "Requirement already satisfied: cycler>=0.10 in c:\\users\\mike davis\\anaconda3\\lib\\site-packages (from matplotlib) (0.10.0)\n",
      "Requirement already satisfied: kiwisolver>=1.0.1 in c:\\users\\mike davis\\anaconda3\\lib\\site-packages (from matplotlib) (1.3.1)\n",
      "Requirement already satisfied: numpy>=1.16 in c:\\users\\mike davis\\anaconda3\\lib\\site-packages (from matplotlib) (1.20.3)\n",
      "Requirement already satisfied: python-dateutil>=2.7 in c:\\users\\mike davis\\anaconda3\\lib\\site-packages (from matplotlib) (2.8.2)\n",
      "Requirement already satisfied: pillow>=6.2.0 in c:\\users\\mike davis\\anaconda3\\lib\\site-packages (from matplotlib) (8.4.0)\n",
      "Requirement already satisfied: pyparsing>=2.2.1 in c:\\users\\mike davis\\anaconda3\\lib\\site-packages (from matplotlib) (3.0.4)\n",
      "Requirement already satisfied: six in c:\\users\\mike davis\\anaconda3\\lib\\site-packages (from cycler>=0.10->matplotlib) (1.16.0)\n",
      "Note: you may need to restart the kernel to use updated packages.\n"
     ]
    }
   ],
   "source": [
    "pip install matplotlib"
   ]
  },
  {
   "cell_type": "code",
   "execution_count": 51,
   "id": "c9bf5f38",
   "metadata": {},
   "outputs": [
    {
     "data": {
      "image/png": "[encoded data removed]",
      "text/plain": [
       "<Figure size 432x288 with 1 Axes>"
      ]
     },
     "metadata": {
      "needs_background": "light"
     },
     "output_type": "display_data"
    }
   ],
   "source": [
    "import numpy as np\n",
    "import matplotlib.pyplot as plt\n",
    "x=np.arange(0,3*np.pi,0.1)\n",
    "y=np.tan(x)\n",
    "plt.plot(x,y)\n",
    "plt.savefig('tan.jpg')"
   ]
  },
  {
   "cell_type": "code",
   "execution_count": null,
   "id": "a6f34d23",
   "metadata": {},
   "outputs": [],
   "source": []
  }
 ],
 "metadata": {
  "kernelspec": {
   "display_name": "Python 3 (ipykernel)",
   "language": "python",
   "name": "python3"
  },
  "language_info": {
   "codemirror_mode": {
    "name": "ipython",
    "version": 3
   },
   "file_extension": ".py",
   "mimetype": "text/x-python",
   "name": "python",
   "nbconvert_exporter": "python",
   "pygments_lexer": "ipython3",
   "version": "3.9.7"
  }
 },
 "nbformat": 4,
 "nbformat_minor": 5
}
